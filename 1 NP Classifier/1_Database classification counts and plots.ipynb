{
 "cells": [
  {
   "cell_type": "code",
   "execution_count": 1,
   "id": "a1ec37ca-23f3-4ac1-9443-e9bd095d863f",
   "metadata": {},
   "outputs": [
    {
     "name": "stdout",
     "output_type": "stream",
     "text": [
      "\n",
      "🔎 Compounds pending classification: 1332\n",
      "\n",
      "[####################] 1332/1332 (100.0%) | Remaining: 0 | Last successful ID: LANaPDB149078\n",
      "\n",
      "✅ Classification completed. Results saved in results.xlsx\n"
     ]
    }
   ],
   "source": [
    "\"\"\"\n",
    "Code function:\n",
    "1)This code classifies a natural product from its SMILES strings according to their Pathway, SuperClass and Class.\n",
    "    Uses the NPClassifier free-access application reported in  https://pubs.acs.org/doi/10.1021/acs.jnatprod.1c00399 .\n",
    "    It uses the API of NPClassifier, nonetheless, the SMILES can be individually submitted in the following web site: https://npclassifier.ucsd.edu/ .\n",
    "2)After classifying all the compounds are determined the individual counts of all the obtained labels in Pathway, SuperClass and Class and this \n",
    "information is exported into an excel file.\n",
    "3)Pie charts are constructed to visualize the previous information.\n",
    "\n",
    "Requirements/Notes: \n",
    "1) The column containing the IDs must have a header labeled 'ID'.\n",
    "2) The column containing the SMILES must have a header labeled 'Smiles'.\n",
    "3) Modify in the script the name of the input file.\n",
    "4) The file xxx_counts_complete.xlsx contain the individual counts of all the compounds.\n",
    "   The file xxx_counts_modified.xlsx contain the counts of just the first 9 labels with more compounds and the remaining are grouped as 'Others'.\n",
    "In the blocks of code where the counts are set, modify the number in the following lines of class and superclass 'top_n_class = 9' if it is\n",
    "intended to keep a different number of top entries and group the remaining as 'Others' in the file xxx_counts_modified.xlsx. \n",
    "5)The pie charts uses as input xxx_counts_complete.xlsx, nonetheless, can be modified the number of the following line of code on every chart to\n",
    "keep a diferent number of top entries and group the remaining as 'Others' : 'top_n = 10'.\n",
    "\"\"\"\n",
    "\n",
    "import pandas as pd\n",
    "import requests\n",
    "import concurrent.futures\n",
    "from json import JSONDecodeError\n",
    "import time\n",
    "\n",
    "# ============================\n",
    "# CONFIGURATION\n",
    "# ============================\n",
    "MAX_WORKERS = 30       # <<< Modify: number of simultaneous compounds processed\n",
    "\n",
    "# ============================\n",
    "# LOAD INPUT FILE\n",
    "# ============================\n",
    "dfi = pd.read_excel(\"input_file.xlsx\")  # Input file\n",
    "dfi['Index'] = dfi.reset_index().index  \n",
    "\n",
    "smiles = dfi.Smiles\n",
    "ids = dfi.ID\n",
    "indexes = dfi.Index\n",
    "\n",
    "# ============================\n",
    "# STORAGE LISTS\n",
    "# ============================\n",
    "results = {\n",
    "    \"ID\": [],\n",
    "    \"Smiles\": [],\n",
    "    \"Pathway\": [],\n",
    "    \"SuperClass\": [],\n",
    "    \"Class\": [],\n",
    "    \"Error_Type\": [],\n",
    "}\n",
    "\n",
    "# ============================\n",
    "# FUNCTION TO CLASSIFY SMILES\n",
    "# ============================\n",
    "def classify_smiles(entry):\n",
    "    smi, compound_id, idx = entry\n",
    "    url = \"https://npclassifier.ucsd.edu/classify?smiles=\" + smi\n",
    "\n",
    "    try:\n",
    "        r = requests.get(url, timeout=None)\n",
    "        data = r.json()\n",
    "\n",
    "        pathway = str(data.get(\"pathway_results\", [])).replace(\"[\",\"\").replace(\"]\",\"\").replace(\"'\",\"\")\n",
    "        superclass = str(data.get(\"superclass_results\", [])).replace(\"[\",\"\").replace(\"]\",\"\").replace(\"'\",\"\")\n",
    "        classres = str(data.get(\"class_results\", [])).replace(\"[\",\"\").replace(\"]\",\"\").replace(\"'\",\"\")\n",
    "\n",
    "        return (compound_id, smi, pathway or \"not_classified\", superclass or \"not_classified\", classres or \"not_classified\", \"\")\n",
    "    \n",
    "    except JSONDecodeError:\n",
    "        return (compound_id, smi, \"try_again_error\", \"try_again_error\", \"try_again_error\", \"JSONDecodeError\")\n",
    "    except requests.exceptions.Timeout:\n",
    "        return (compound_id, smi, \"time_error\", \"time_error\", \"time_error\", \"TimeoutError\")\n",
    "    except requests.exceptions.RequestException:\n",
    "        return (compound_id, smi, \"time_error\", \"time_error\", \"time_error\", \"OtherError\")\n",
    "\n",
    "# ============================\n",
    "# PARALLEL PROCESSING WITH CUSTOM PROGRESS\n",
    "# ============================\n",
    "entries = list(zip(smiles, ids, indexes))\n",
    "total = len(entries)\n",
    "start_time = time.time()\n",
    "\n",
    "print(f\"\\n🔎 Compounds pending classification: {total}\\n\")\n",
    "\n",
    "try:\n",
    "    with concurrent.futures.ThreadPoolExecutor(max_workers=MAX_WORKERS) as executor:\n",
    "        futures = {executor.submit(classify_smiles, entry): entry for entry in entries}\n",
    "\n",
    "        processed = 0\n",
    "        last_id = None\n",
    "\n",
    "        for future in concurrent.futures.as_completed(futures):\n",
    "            compound_id, smi, pathway, superclass, classres, error = future.result()\n",
    "\n",
    "            # Store results\n",
    "            results[\"ID\"].append(compound_id)\n",
    "            results[\"Smiles\"].append(smi)\n",
    "            results[\"Pathway\"].append(pathway)\n",
    "            results[\"SuperClass\"].append(superclass)\n",
    "            results[\"Class\"].append(classres)\n",
    "            results[\"Error_Type\"].append(error)\n",
    "\n",
    "            # Update counters\n",
    "            processed += 1\n",
    "            last_id = compound_id\n",
    "            remaining = total - processed\n",
    "\n",
    "            # Calculate percentage\n",
    "            percent = (processed / total) * 100\n",
    "            bar_length = 20\n",
    "            filled_length = int(bar_length * processed // total)\n",
    "            bar = \"#\" * filled_length + \"-\" * (bar_length - filled_length)\n",
    "\n",
    "            # Print status line with custom style\n",
    "            print(\n",
    "                f\"\\r[{bar}] {processed}/{total} ({percent:.1f}%) \"\n",
    "                f\"| Remaining: {remaining} \"\n",
    "                f\"| Last successful ID: {last_id}\",\n",
    "                end=\"\", flush=True\n",
    "            )\n",
    "\n",
    "    # ============================\n",
    "    # SAVE RESULTS TO EXCEL\n",
    "    # ============================\n",
    "    df = pd.DataFrame(results)\n",
    "    df.to_excel(\"results.xlsx\", index=False)\n",
    "    print(f\"\\n\\n✅ Classification completed. Results saved in results.xlsx\")\n",
    "\n",
    "except KeyboardInterrupt:\n",
    "    # Handle manual interruption\n",
    "    df = pd.DataFrame(results)\n",
    "    df.to_excel(\"results_partial.xlsx\", index=False)\n",
    "    print(f\"\\n\\n🛑 Interrupted by user. Saving progress up to ID: {last_id}...\")\n",
    "    print(f\"💾 Progress saved in results_partial.xlsx\")\n"
   ]
  },
  {
   "cell_type": "code",
   "execution_count": 2,
   "id": "47e7cb90-1ae1-45c7-a705-9c0b7f1ea1d3",
   "metadata": {},
   "outputs": [],
   "source": [
    "# Separation into multiple columns in cases where there is more than one Pathway, SuperClass, or Class\n",
    "# Code inspired by: https://practicaldatascience.co.uk/data-science/how-to-split-a-pandas-column-string-or-list-into-separate-columns#:~:text=using%20the%20str.-,split()%20function.,a%20Python%20list%20of%20values.\n",
    "\n",
    "import pandas as pd\n",
    "import numpy as np\n",
    "\n",
    "df = pd.read_excel(\"results.xlsx\")\n",
    "\n",
    "\n",
    "df['Pathway_list'] = df['Pathway'].str.split(',') # Convert the 'Pathway' column to a list, specifying that the separator is a comma\n",
    "df_pathway = pd.DataFrame(df['Pathway_list'].tolist()).fillna('').add_prefix('Pathway_')\n",
    "df = pd.concat([df, df_pathway], axis=1)\n",
    "\n",
    "# Convert the 'SuperClass' column to a list\n",
    "df['SuperClass_list'] = df['SuperClass'].str.split(',')\n",
    "df_superclass = pd.DataFrame(df['SuperClass_list'].tolist()).fillna('').add_prefix('SuperClass_')\n",
    "df = pd.concat([df, df_superclass], axis=1)\n",
    "\n",
    "# Prevent Carotenoids (C40, β-β) and C45 from being split by the comma inside their name\n",
    "df['Class'] = df['Class'].str.replace('C40,', 'C40')\n",
    "df['Class'] = df['Class'].str.replace('C45,', 'C40')\n",
    "# Prevent Indole diketopiperazine alkaloids (L-Trp, L-Ala) from being split by the comma inside their name\n",
    "df['Class'] = df['Class'].str.replace('L-Trp,', 'L-Trp')\n",
    "# Prevent Apocarotenoids (C30, Ψ-Ψ) from being split by the comma inside their name\n",
    "df['Class'] = df['Class'].str.replace('C30,', 'C30')\n",
    "\n",
    "# Convert the 'Class' column to a list\n",
    "df['Class_list'] = df['Class'].str.split(',')\n",
    "df_class = pd.DataFrame(df['Class_list'].tolist()).fillna('').add_prefix('Class_')\n",
    "df = pd.concat([df, df_class], axis=1)\n",
    "\n",
    "# Save the final DataFrame to a new Excel file\n",
    "df.to_excel(\"results_separated.xlsx\")\n"
   ]
  },
  {
   "cell_type": "code",
   "execution_count": 3,
   "id": "20cd5d66-8f70-4b99-b2fa-9dedfcf1c1b9",
   "metadata": {},
   "outputs": [],
   "source": [
    "import pandas as pd\n",
    "import numpy as np\n",
    "\n",
    "# Concatenation into a single column and removal of unwanted characters\n",
    "\n",
    "# Initialize empty DataFrames\n",
    "dfp = pd.DataFrame()\n",
    "dfsc = pd.DataFrame()\n",
    "dfc = pd.DataFrame()\n",
    "\n",
    "# Concatenate Pathway columns\n",
    "pathway_cols = df.filter(regex='Pathway_')  # Keep only the columns matching the pattern 'Pathway_'\n",
    "pathway_cols = pathway_cols.iloc[:, 1:]     # Remove the first column, which is \"Pathway_list\"\n",
    "dfp['Pathway'] = pd.concat([df[col] for col in pathway_cols.columns], axis=0)\n",
    "\n",
    "# Concatenate SuperClass columns\n",
    "superclass_cols = df.filter(regex='SuperClass_')\n",
    "superclass_cols = superclass_cols.iloc[:, 1:]\n",
    "dfsc['SuperClass'] = pd.concat([df[col] for col in superclass_cols.columns], axis=0)\n",
    "\n",
    "# Concatenate Class columns\n",
    "class_cols = df.filter(regex='Class_')\n",
    "class_cols = class_cols.iloc[:, 1:]\n",
    "dfc['Class'] = pd.concat([df[col] for col in class_cols.columns], axis=0)\n",
    "\n",
    "# Removal of unwanted characters\n",
    "unwanted_values = ['try_again_error', 'not_classified']\n",
    "\n",
    "for val in unwanted_values:\n",
    "    dfp['Pathway'] = dfp['Pathway'].str.replace(val, '', regex=False)\n",
    "    dfsc['SuperClass'] = dfsc['SuperClass'].str.replace(val, '', regex=False)\n",
    "    dfc['Class'] = dfc['Class'].str.replace(val, '', regex=False)\n",
    "\n",
    "# Remove rows with empty values\n",
    "dfp.replace('', np.nan, inplace=True)\n",
    "dfp.dropna(inplace=True)\n",
    "\n",
    "dfsc.replace('', np.nan, inplace=True)\n",
    "dfsc.dropna(inplace=True)\n",
    "\n",
    "dfc.replace('', np.nan, inplace=True)\n",
    "dfc.dropna(inplace=True)\n",
    "\n",
    "# Reset the indexes\n",
    "dfp.reset_index(drop=True, inplace=True)\n",
    "dfsc.reset_index(drop=True, inplace=True)\n",
    "dfc.reset_index(drop=True, inplace=True)\n",
    "\n",
    "# Remove leading and trailing whitespace from each string (using .map to avoid FutureWarning)\n",
    "dfp['Pathway'] = dfp['Pathway'].map(lambda x: x.strip() if isinstance(x, str) else x)\n",
    "dfsc['SuperClass'] = dfsc['SuperClass'].map(lambda x: x.strip() if isinstance(x, str) else x)\n",
    "dfc['Class'] = dfc['Class'].map(lambda x: x.strip() if isinstance(x, str) else x)\n",
    "\n",
    "# Optional: save results in Excel\n",
    "# dfp.to_excel(\"dfp.xlsx\", index=False)\n",
    "# dfsc.to_excel(\"dfsc.xlsx\", index=False)\n",
    "# dfc.to_excel(\"dfc.xlsx\", index=False)\n"
   ]
  },
  {
   "cell_type": "code",
   "execution_count": 4,
   "id": "ea60b612-33bd-46d4-a29e-78d6c02aedaf",
   "metadata": {},
   "outputs": [],
   "source": [
    "# -----------------------------\n",
    "# Calculate counts for Pathway\n",
    "# -----------------------------\n",
    "dfp['Pathway'] = dfp['Pathway'].str.strip()  # Remove leading/trailing spaces\n",
    "dfcc_pathway = dfp['Pathway'].value_counts().reset_index()\n",
    "dfcc_pathway.columns = ['Pathway', 'counts']  # Rename columns\n",
    "dfcc_pathway = dfcc_pathway.sort_values('counts', ascending=False)\n",
    "dfcc_pathway.to_excel('Pathway_counts.xlsx', index=False)\n",
    "\n",
    "\n",
    "# -----------------------------\n",
    "# SUPERCLASS COUNTS\n",
    "# -----------------------------\n",
    "top_n_super = 9  # <-- Change this value to modify the number of top SuperClass entries\n",
    "\n",
    "# Calculate counts for SuperClass\n",
    "SuperClass_counts = dfsc['SuperClass'].str.strip()  # remove whitespace\n",
    "dfcc_super = SuperClass_counts.value_counts().rename_axis('SuperClass').reset_index(name='counts')\n",
    "\n",
    "# Sort from highest to lowest\n",
    "dfcc_super = dfcc_super.sort_values('counts', ascending=False)\n",
    "\n",
    "# Save the complete counts (without grouping Others)\n",
    "dfcc_super.to_excel('SuperClass_counts_complete.xlsx', index=False)\n",
    "\n",
    "# Keep only the top_n_super and group the rest as 'Others' if necessary\n",
    "if len(dfcc_super) > top_n_super:\n",
    "    top_n = dfcc_super.iloc[:top_n_super]\n",
    "    others_count = dfcc_super.iloc[top_n_super:]['counts'].sum()\n",
    "    others_row = pd.DataFrame({'SuperClass': ['Others'], 'counts': [others_count]})\n",
    "    dfcc_super = pd.concat([top_n, others_row], ignore_index=True)\n",
    "\n",
    "# Save the modified counts (with Others grouped)\n",
    "dfcc_super.to_excel('SuperClass_counts_modified.xlsx', index=False)\n",
    "\n",
    "\n",
    "# -----------------------------\n",
    "# CLASS COUNTS\n",
    "# -----------------------------\n",
    "top_n_class = 9  # <-- Change this value to modify the number of top Class entries\n",
    "\n",
    "# Calculate counts for Class\n",
    "Class_counts = dfc['Class'].str.strip()  # remove whitespace\n",
    "dfcc_class = Class_counts.value_counts().rename_axis('Class').reset_index(name='counts')\n",
    "\n",
    "# Sort from highest to lowest\n",
    "dfcc_class = dfcc_class.sort_values('counts', ascending=False)\n",
    "\n",
    "# Save the complete counts (without grouping Others)\n",
    "dfcc_class.to_excel('Class_counts_complete.xlsx', index=False)\n",
    "\n",
    "# Keep only the top_n_class and group the rest as 'Others' if necessary\n",
    "if len(dfcc_class) > top_n_class:\n",
    "    top_n = dfcc_class.iloc[:top_n_class]\n",
    "    others_count = dfcc_class.iloc[top_n_class:]['counts'].sum()\n",
    "    others_row = pd.DataFrame({'Class': ['Others'], 'counts': [others_count]})\n",
    "    dfcc_class = pd.concat([top_n, others_row], ignore_index=True)\n",
    "\n",
    "# Save the modified counts (with Others grouped)\n",
    "dfcc_class.to_excel('Class_counts_modified.xlsx', index=False)\n"
   ]
  },
  {
   "cell_type": "code",
   "execution_count": 5,
   "id": "cd77e40c-68a6-4442-82a4-b4f101a9724b",
   "metadata": {},
   "outputs": [
    {
     "data": {
      "application/vnd.plotly.v1+json": {
       "config": {
        "plotlyServerURL": "https://plot.ly"
       },
       "data": [
        {
         "domain": {
          "x": [
           0,
           1
          ],
          "y": [
           0,
           1
          ]
         },
         "hovertemplate": "Pathway=%{label}<br>counts=%{value}<extra></extra>",
         "labels": [
          "Terpenoids",
          "Shikimates and Phenylpropanoids",
          "Alkaloids",
          "Polyketides",
          "Fatty acids",
          "Amino acids and Peptides",
          "Carbohydrates"
         ],
         "legendgroup": "",
         "name": "",
         "showlegend": true,
         "textfont": {
          "size": 28
         },
         "textinfo": "percent",
         "type": "pie",
         "values": {
          "_inputArray": {
           "0": 834,
           "1": 206,
           "2": 103,
           "3": 89,
           "4": 31,
           "5": 23,
           "6": 9,
           "bdata": "QgPOAGcAWQAfABcACQA=",
           "dtype": "i2",
           "shape": "7"
          },
          "bdata": "QgPOAGcAWQAfABcACQA=",
          "dtype": "i2"
         }
        }
       ],
       "layout": {
        "font": {
         "size": 20
        },
        "height": 800,
        "legend": {
         "font": {
          "size": 34
         },
         "orientation": "v",
         "title": {
          "text": ""
         },
         "tracegroupgap": 0,
         "x": 1.1,
         "xanchor": "left",
         "y": 0.5,
         "yanchor": "middle"
        },
        "margin": {
         "b": 100,
         "l": 80,
         "r": 300,
         "t": 150
        },
        "template": {
         "data": {
          "bar": [
           {
            "error_x": {
             "color": "#2a3f5f"
            },
            "error_y": {
             "color": "#2a3f5f"
            },
            "marker": {
             "line": {
              "color": "#E5ECF6",
              "width": 0.5
             },
             "pattern": {
              "fillmode": "overlay",
              "size": 10,
              "solidity": 0.2
             }
            },
            "type": "bar"
           }
          ],
          "barpolar": [
           {
            "marker": {
             "line": {
              "color": "#E5ECF6",
              "width": 0.5
             },
             "pattern": {
              "fillmode": "overlay",
              "size": 10,
              "solidity": 0.2
             }
            },
            "type": "barpolar"
           }
          ],
          "carpet": [
           {
            "aaxis": {
             "endlinecolor": "#2a3f5f",
             "gridcolor": "white",
             "linecolor": "white",
             "minorgridcolor": "white",
             "startlinecolor": "#2a3f5f"
            },
            "baxis": {
             "endlinecolor": "#2a3f5f",
             "gridcolor": "white",
             "linecolor": "white",
             "minorgridcolor": "white",
             "startlinecolor": "#2a3f5f"
            },
            "type": "carpet"
           }
          ],
          "choropleth": [
           {
            "colorbar": {
             "outlinewidth": 0,
             "ticks": ""
            },
            "type": "choropleth"
           }
          ],
          "contour": [
           {
            "colorbar": {
             "outlinewidth": 0,
             "ticks": ""
            },
            "colorscale": [
             [
              0,
              "#0d0887"
             ],
             [
              0.1111111111111111,
              "#46039f"
             ],
             [
              0.2222222222222222,
              "#7201a8"
             ],
             [
              0.3333333333333333,
              "#9c179e"
             ],
             [
              0.4444444444444444,
              "#bd3786"
             ],
             [
              0.5555555555555556,
              "#d8576b"
             ],
             [
              0.6666666666666666,
              "#ed7953"
             ],
             [
              0.7777777777777778,
              "#fb9f3a"
             ],
             [
              0.8888888888888888,
              "#fdca26"
             ],
             [
              1,
              "#f0f921"
             ]
            ],
            "type": "contour"
           }
          ],
          "contourcarpet": [
           {
            "colorbar": {
             "outlinewidth": 0,
             "ticks": ""
            },
            "type": "contourcarpet"
           }
          ],
          "heatmap": [
           {
            "colorbar": {
             "outlinewidth": 0,
             "ticks": ""
            },
            "colorscale": [
             [
              0,
              "#0d0887"
             ],
             [
              0.1111111111111111,
              "#46039f"
             ],
             [
              0.2222222222222222,
              "#7201a8"
             ],
             [
              0.3333333333333333,
              "#9c179e"
             ],
             [
              0.4444444444444444,
              "#bd3786"
             ],
             [
              0.5555555555555556,
              "#d8576b"
             ],
             [
              0.6666666666666666,
              "#ed7953"
             ],
             [
              0.7777777777777778,
              "#fb9f3a"
             ],
             [
              0.8888888888888888,
              "#fdca26"
             ],
             [
              1,
              "#f0f921"
             ]
            ],
            "type": "heatmap"
           }
          ],
          "histogram": [
           {
            "marker": {
             "pattern": {
              "fillmode": "overlay",
              "size": 10,
              "solidity": 0.2
             }
            },
            "type": "histogram"
           }
          ],
          "histogram2d": [
           {
            "colorbar": {
             "outlinewidth": 0,
             "ticks": ""
            },
            "colorscale": [
             [
              0,
              "#0d0887"
             ],
             [
              0.1111111111111111,
              "#46039f"
             ],
             [
              0.2222222222222222,
              "#7201a8"
             ],
             [
              0.3333333333333333,
              "#9c179e"
             ],
             [
              0.4444444444444444,
              "#bd3786"
             ],
             [
              0.5555555555555556,
              "#d8576b"
             ],
             [
              0.6666666666666666,
              "#ed7953"
             ],
             [
              0.7777777777777778,
              "#fb9f3a"
             ],
             [
              0.8888888888888888,
              "#fdca26"
             ],
             [
              1,
              "#f0f921"
             ]
            ],
            "type": "histogram2d"
           }
          ],
          "histogram2dcontour": [
           {
            "colorbar": {
             "outlinewidth": 0,
             "ticks": ""
            },
            "colorscale": [
             [
              0,
              "#0d0887"
             ],
             [
              0.1111111111111111,
              "#46039f"
             ],
             [
              0.2222222222222222,
              "#7201a8"
             ],
             [
              0.3333333333333333,
              "#9c179e"
             ],
             [
              0.4444444444444444,
              "#bd3786"
             ],
             [
              0.5555555555555556,
              "#d8576b"
             ],
             [
              0.6666666666666666,
              "#ed7953"
             ],
             [
              0.7777777777777778,
              "#fb9f3a"
             ],
             [
              0.8888888888888888,
              "#fdca26"
             ],
             [
              1,
              "#f0f921"
             ]
            ],
            "type": "histogram2dcontour"
           }
          ],
          "mesh3d": [
           {
            "colorbar": {
             "outlinewidth": 0,
             "ticks": ""
            },
            "type": "mesh3d"
           }
          ],
          "parcoords": [
           {
            "line": {
             "colorbar": {
              "outlinewidth": 0,
              "ticks": ""
             }
            },
            "type": "parcoords"
           }
          ],
          "pie": [
           {
            "automargin": true,
            "type": "pie"
           }
          ],
          "scatter": [
           {
            "fillpattern": {
             "fillmode": "overlay",
             "size": 10,
             "solidity": 0.2
            },
            "type": "scatter"
           }
          ],
          "scatter3d": [
           {
            "line": {
             "colorbar": {
              "outlinewidth": 0,
              "ticks": ""
             }
            },
            "marker": {
             "colorbar": {
              "outlinewidth": 0,
              "ticks": ""
             }
            },
            "type": "scatter3d"
           }
          ],
          "scattercarpet": [
           {
            "marker": {
             "colorbar": {
              "outlinewidth": 0,
              "ticks": ""
             }
            },
            "type": "scattercarpet"
           }
          ],
          "scattergeo": [
           {
            "marker": {
             "colorbar": {
              "outlinewidth": 0,
              "ticks": ""
             }
            },
            "type": "scattergeo"
           }
          ],
          "scattergl": [
           {
            "marker": {
             "colorbar": {
              "outlinewidth": 0,
              "ticks": ""
             }
            },
            "type": "scattergl"
           }
          ],
          "scattermap": [
           {
            "marker": {
             "colorbar": {
              "outlinewidth": 0,
              "ticks": ""
             }
            },
            "type": "scattermap"
           }
          ],
          "scattermapbox": [
           {
            "marker": {
             "colorbar": {
              "outlinewidth": 0,
              "ticks": ""
             }
            },
            "type": "scattermapbox"
           }
          ],
          "scatterpolar": [
           {
            "marker": {
             "colorbar": {
              "outlinewidth": 0,
              "ticks": ""
             }
            },
            "type": "scatterpolar"
           }
          ],
          "scatterpolargl": [
           {
            "marker": {
             "colorbar": {
              "outlinewidth": 0,
              "ticks": ""
             }
            },
            "type": "scatterpolargl"
           }
          ],
          "scatterternary": [
           {
            "marker": {
             "colorbar": {
              "outlinewidth": 0,
              "ticks": ""
             }
            },
            "type": "scatterternary"
           }
          ],
          "surface": [
           {
            "colorbar": {
             "outlinewidth": 0,
             "ticks": ""
            },
            "colorscale": [
             [
              0,
              "#0d0887"
             ],
             [
              0.1111111111111111,
              "#46039f"
             ],
             [
              0.2222222222222222,
              "#7201a8"
             ],
             [
              0.3333333333333333,
              "#9c179e"
             ],
             [
              0.4444444444444444,
              "#bd3786"
             ],
             [
              0.5555555555555556,
              "#d8576b"
             ],
             [
              0.6666666666666666,
              "#ed7953"
             ],
             [
              0.7777777777777778,
              "#fb9f3a"
             ],
             [
              0.8888888888888888,
              "#fdca26"
             ],
             [
              1,
              "#f0f921"
             ]
            ],
            "type": "surface"
           }
          ],
          "table": [
           {
            "cells": {
             "fill": {
              "color": "#EBF0F8"
             },
             "line": {
              "color": "white"
             }
            },
            "header": {
             "fill": {
              "color": "#C8D4E3"
             },
             "line": {
              "color": "white"
             }
            },
            "type": "table"
           }
          ]
         },
         "layout": {
          "annotationdefaults": {
           "arrowcolor": "#2a3f5f",
           "arrowhead": 0,
           "arrowwidth": 1
          },
          "autotypenumbers": "strict",
          "coloraxis": {
           "colorbar": {
            "outlinewidth": 0,
            "ticks": ""
           }
          },
          "colorscale": {
           "diverging": [
            [
             0,
             "#8e0152"
            ],
            [
             0.1,
             "#c51b7d"
            ],
            [
             0.2,
             "#de77ae"
            ],
            [
             0.3,
             "#f1b6da"
            ],
            [
             0.4,
             "#fde0ef"
            ],
            [
             0.5,
             "#f7f7f7"
            ],
            [
             0.6,
             "#e6f5d0"
            ],
            [
             0.7,
             "#b8e186"
            ],
            [
             0.8,
             "#7fbc41"
            ],
            [
             0.9,
             "#4d9221"
            ],
            [
             1,
             "#276419"
            ]
           ],
           "sequential": [
            [
             0,
             "#0d0887"
            ],
            [
             0.1111111111111111,
             "#46039f"
            ],
            [
             0.2222222222222222,
             "#7201a8"
            ],
            [
             0.3333333333333333,
             "#9c179e"
            ],
            [
             0.4444444444444444,
             "#bd3786"
            ],
            [
             0.5555555555555556,
             "#d8576b"
            ],
            [
             0.6666666666666666,
             "#ed7953"
            ],
            [
             0.7777777777777778,
             "#fb9f3a"
            ],
            [
             0.8888888888888888,
             "#fdca26"
            ],
            [
             1,
             "#f0f921"
            ]
           ],
           "sequentialminus": [
            [
             0,
             "#0d0887"
            ],
            [
             0.1111111111111111,
             "#46039f"
            ],
            [
             0.2222222222222222,
             "#7201a8"
            ],
            [
             0.3333333333333333,
             "#9c179e"
            ],
            [
             0.4444444444444444,
             "#bd3786"
            ],
            [
             0.5555555555555556,
             "#d8576b"
            ],
            [
             0.6666666666666666,
             "#ed7953"
            ],
            [
             0.7777777777777778,
             "#fb9f3a"
            ],
            [
             0.8888888888888888,
             "#fdca26"
            ],
            [
             1,
             "#f0f921"
            ]
           ]
          },
          "colorway": [
           "#636efa",
           "#EF553B",
           "#00cc96",
           "#ab63fa",
           "#FFA15A",
           "#19d3f3",
           "#FF6692",
           "#B6E880",
           "#FF97FF",
           "#FECB52"
          ],
          "font": {
           "color": "#2a3f5f"
          },
          "geo": {
           "bgcolor": "white",
           "lakecolor": "white",
           "landcolor": "#E5ECF6",
           "showlakes": true,
           "showland": true,
           "subunitcolor": "white"
          },
          "hoverlabel": {
           "align": "left"
          },
          "hovermode": "closest",
          "mapbox": {
           "style": "light"
          },
          "paper_bgcolor": "white",
          "plot_bgcolor": "#E5ECF6",
          "polar": {
           "angularaxis": {
            "gridcolor": "white",
            "linecolor": "white",
            "ticks": ""
           },
           "bgcolor": "#E5ECF6",
           "radialaxis": {
            "gridcolor": "white",
            "linecolor": "white",
            "ticks": ""
           }
          },
          "scene": {
           "xaxis": {
            "backgroundcolor": "#E5ECF6",
            "gridcolor": "white",
            "gridwidth": 2,
            "linecolor": "white",
            "showbackground": true,
            "ticks": "",
            "zerolinecolor": "white"
           },
           "yaxis": {
            "backgroundcolor": "#E5ECF6",
            "gridcolor": "white",
            "gridwidth": 2,
            "linecolor": "white",
            "showbackground": true,
            "ticks": "",
            "zerolinecolor": "white"
           },
           "zaxis": {
            "backgroundcolor": "#E5ECF6",
            "gridcolor": "white",
            "gridwidth": 2,
            "linecolor": "white",
            "showbackground": true,
            "ticks": "",
            "zerolinecolor": "white"
           }
          },
          "shapedefaults": {
           "line": {
            "color": "#2a3f5f"
           }
          },
          "ternary": {
           "aaxis": {
            "gridcolor": "white",
            "linecolor": "white",
            "ticks": ""
           },
           "baxis": {
            "gridcolor": "white",
            "linecolor": "white",
            "ticks": ""
           },
           "bgcolor": "#E5ECF6",
           "caxis": {
            "gridcolor": "white",
            "linecolor": "white",
            "ticks": ""
           }
          },
          "title": {
           "x": 0.05
          },
          "xaxis": {
           "automargin": true,
           "gridcolor": "white",
           "linecolor": "white",
           "ticks": "",
           "title": {
            "standoff": 15
           },
           "zerolinecolor": "white",
           "zerolinewidth": 2
          },
          "yaxis": {
           "automargin": true,
           "gridcolor": "white",
           "linecolor": "white",
           "ticks": "",
           "title": {
            "standoff": 15
           },
           "zerolinecolor": "white",
           "zerolinewidth": 2
          }
         }
        },
        "title": {
         "font": {
          "size": 46
         },
         "text": "Pathway",
         "x": 0.2,
         "xanchor": "right",
         "y": 0.9,
         "yanchor": "top"
        },
        "width": 1400
       }
      }
     },
     "metadata": {},
     "output_type": "display_data"
    }
   ],
   "source": [
    "import plotly.express as px\n",
    "import plotly\n",
    "import kaleido\n",
    "import os\n",
    "import pandas as pd\n",
    "\n",
    "# Create folder for images if it doesn't exist\n",
    "if not os.path.exists(\"images\"):\n",
    "    os.mkdir(\"images\")\n",
    "\n",
    "# Read data from Excel\n",
    "dfi = pd.read_excel(\"Pathway_counts.xlsx\")\n",
    "\n",
    "# ============================\n",
    "# Remove unwanted error labels\n",
    "# ============================\n",
    "exclude_labels = [\"try_again_error\", \"time_error\", \"TimeoutError\", \"OtherError\", \"not_classified\"]\n",
    "dfi = dfi[~dfi[\"Pathway\"].isin(exclude_labels)]\n",
    "\n",
    "# ============================\n",
    "# Parameter: number of top elements to keep\n",
    "# ============================\n",
    "top_n = 10   # <<< Change this number to keep more/fewer elements before grouping the rest as \"Others\"\n",
    "\n",
    "# Sort values by counts (descending)\n",
    "dfi_sorted = dfi.sort_values(by=\"counts\", ascending=False).reset_index(drop=True)\n",
    "\n",
    "# Keep top_n and group the rest as \"Others\"\n",
    "top_data = dfi_sorted.iloc[:top_n].copy()\n",
    "others_sum = dfi_sorted.iloc[top_n:][\"counts\"].sum()\n",
    "\n",
    "if others_sum > 0:\n",
    "    top_data = pd.concat([\n",
    "        top_data,\n",
    "        pd.DataFrame({\"Pathway\": [\"Others\"], \"counts\": [others_sum]})\n",
    "    ])\n",
    "\n",
    "# ============================\n",
    "# Create pie chart\n",
    "# ============================\n",
    "fig = px.pie(\n",
    "    top_data,\n",
    "    names=\"Pathway\",\n",
    "    values=\"counts\",\n",
    "    title=\"Pathway\"\n",
    ")\n",
    "\n",
    "# ============================\n",
    "# Percentages inside the chart\n",
    "# ============================\n",
    "fig.update_traces(\n",
    "    textinfo=\"percent\",     # <<< Controls what text appears inside slices (\"percent\", \"label\", \"value\", etc.)\n",
    "    textfont_size=28        # <<< Change percentage font size here\n",
    ")\n",
    "\n",
    "# ============================\n",
    "# Title, labels, legend styling\n",
    "# ============================\n",
    "fig.update_layout(\n",
    "    title=dict(\n",
    "        text=\"Pathway\",\n",
    "        x=0.2,                # <<< Move title along X-axis (0 = left, 1 = right)\n",
    "        y=0.9,                # <<< Move title along Y-axis (0 = bottom, 1 = top)\n",
    "        xanchor=\"right\",      # <<< Horizontal anchor point for title\n",
    "        yanchor=\"top\",        # <<< Vertical anchor point for title\n",
    "        font=dict(size=46)    # <<< Change title font size here\n",
    "    ),\n",
    "    font_size=20,             # <<< Change default label font size (applies to tick labels, slice labels, etc.)\n",
    "    legend_title_text=\"\", \n",
    "    legend=dict(\n",
    "        orientation=\"v\",\n",
    "        yanchor=\"middle\",     \n",
    "        y=0.5,                # <<< Move legend along Y-axis\n",
    "        xanchor=\"left\",       \n",
    "        x=1.1,                  # <<< Move legend box along X-axis (controls its horizontal position)\n",
    "        font=dict(size=34)    # <<< Change legend labels font size here\n",
    "    ),\n",
    "    width=1400,\n",
    "    height=800,\n",
    "    margin=dict(t=150, b=100, l=80, r=300)  \n",
    ")\n",
    "\n",
    "# Show interactive chart\n",
    "fig.show()\n",
    "\n",
    "# ============================\n",
    "# Export for publication\n",
    "# ============================\n",
    "fig.write_image(\n",
    "    \"images/1_pathway.png\",   # <<< Output filename\n",
    "    format=\"png\",\n",
    "    width=1250,\n",
    "    height=800,\n",
    "    scale=1   \n",
    ")\n"
   ]
  },
  {
   "cell_type": "code",
   "execution_count": 6,
   "id": "0337f047-c08c-47cb-b2b2-436cef9a5a1d",
   "metadata": {},
   "outputs": [
    {
     "data": {
      "application/vnd.plotly.v1+json": {
       "config": {
        "plotlyServerURL": "https://plot.ly"
       },
       "data": [
        {
         "domain": {
          "x": [
           0,
           1
          ],
          "y": [
           0,
           1
          ]
         },
         "hovertemplate": "SuperClass=%{label}<br>counts=%{value}<extra></extra>",
         "labels": [
          "Sesquiterpenoids",
          "Diterpenoids",
          "Steroids",
          "Triterpenoids",
          "Flavonoids",
          "Coumarins",
          "Phenylpropanoids (C6-C3)",
          "Lignans",
          "Monoterpenoids",
          "Aromatic polyketides",
          "Others"
         ],
         "legendgroup": "",
         "name": "",
         "showlegend": true,
         "textfont": {
          "size": 28
         },
         "textinfo": "percent",
         "type": "pie",
         "values": {
          "_inputArray": {
           "0": 332,
           "1": 190,
           "10": 265,
           "2": 157,
           "3": 66,
           "4": 55,
           "5": 40,
           "6": 36,
           "7": 36,
           "8": 32,
           "9": 31,
           "bdata": "TAG+AJ0AQgA3ACgAJAAkACAAHwAJAQ==",
           "dtype": "i2",
           "shape": "11"
          },
          "bdata": "TAG+AJ0AQgA3ACgAJAAkACAAHwAJAQ==",
          "dtype": "i2"
         }
        }
       ],
       "layout": {
        "font": {
         "size": 20
        },
        "height": 800,
        "legend": {
         "font": {
          "size": 34
         },
         "orientation": "v",
         "title": {
          "text": ""
         },
         "tracegroupgap": 0,
         "x": 1.1,
         "xanchor": "left",
         "y": 0.5,
         "yanchor": "middle"
        },
        "margin": {
         "b": 100,
         "l": 80,
         "r": 300,
         "t": 150
        },
        "template": {
         "data": {
          "bar": [
           {
            "error_x": {
             "color": "#2a3f5f"
            },
            "error_y": {
             "color": "#2a3f5f"
            },
            "marker": {
             "line": {
              "color": "#E5ECF6",
              "width": 0.5
             },
             "pattern": {
              "fillmode": "overlay",
              "size": 10,
              "solidity": 0.2
             }
            },
            "type": "bar"
           }
          ],
          "barpolar": [
           {
            "marker": {
             "line": {
              "color": "#E5ECF6",
              "width": 0.5
             },
             "pattern": {
              "fillmode": "overlay",
              "size": 10,
              "solidity": 0.2
             }
            },
            "type": "barpolar"
           }
          ],
          "carpet": [
           {
            "aaxis": {
             "endlinecolor": "#2a3f5f",
             "gridcolor": "white",
             "linecolor": "white",
             "minorgridcolor": "white",
             "startlinecolor": "#2a3f5f"
            },
            "baxis": {
             "endlinecolor": "#2a3f5f",
             "gridcolor": "white",
             "linecolor": "white",
             "minorgridcolor": "white",
             "startlinecolor": "#2a3f5f"
            },
            "type": "carpet"
           }
          ],
          "choropleth": [
           {
            "colorbar": {
             "outlinewidth": 0,
             "ticks": ""
            },
            "type": "choropleth"
           }
          ],
          "contour": [
           {
            "colorbar": {
             "outlinewidth": 0,
             "ticks": ""
            },
            "colorscale": [
             [
              0,
              "#0d0887"
             ],
             [
              0.1111111111111111,
              "#46039f"
             ],
             [
              0.2222222222222222,
              "#7201a8"
             ],
             [
              0.3333333333333333,
              "#9c179e"
             ],
             [
              0.4444444444444444,
              "#bd3786"
             ],
             [
              0.5555555555555556,
              "#d8576b"
             ],
             [
              0.6666666666666666,
              "#ed7953"
             ],
             [
              0.7777777777777778,
              "#fb9f3a"
             ],
             [
              0.8888888888888888,
              "#fdca26"
             ],
             [
              1,
              "#f0f921"
             ]
            ],
            "type": "contour"
           }
          ],
          "contourcarpet": [
           {
            "colorbar": {
             "outlinewidth": 0,
             "ticks": ""
            },
            "type": "contourcarpet"
           }
          ],
          "heatmap": [
           {
            "colorbar": {
             "outlinewidth": 0,
             "ticks": ""
            },
            "colorscale": [
             [
              0,
              "#0d0887"
             ],
             [
              0.1111111111111111,
              "#46039f"
             ],
             [
              0.2222222222222222,
              "#7201a8"
             ],
             [
              0.3333333333333333,
              "#9c179e"
             ],
             [
              0.4444444444444444,
              "#bd3786"
             ],
             [
              0.5555555555555556,
              "#d8576b"
             ],
             [
              0.6666666666666666,
              "#ed7953"
             ],
             [
              0.7777777777777778,
              "#fb9f3a"
             ],
             [
              0.8888888888888888,
              "#fdca26"
             ],
             [
              1,
              "#f0f921"
             ]
            ],
            "type": "heatmap"
           }
          ],
          "histogram": [
           {
            "marker": {
             "pattern": {
              "fillmode": "overlay",
              "size": 10,
              "solidity": 0.2
             }
            },
            "type": "histogram"
           }
          ],
          "histogram2d": [
           {
            "colorbar": {
             "outlinewidth": 0,
             "ticks": ""
            },
            "colorscale": [
             [
              0,
              "#0d0887"
             ],
             [
              0.1111111111111111,
              "#46039f"
             ],
             [
              0.2222222222222222,
              "#7201a8"
             ],
             [
              0.3333333333333333,
              "#9c179e"
             ],
             [
              0.4444444444444444,
              "#bd3786"
             ],
             [
              0.5555555555555556,
              "#d8576b"
             ],
             [
              0.6666666666666666,
              "#ed7953"
             ],
             [
              0.7777777777777778,
              "#fb9f3a"
             ],
             [
              0.8888888888888888,
              "#fdca26"
             ],
             [
              1,
              "#f0f921"
             ]
            ],
            "type": "histogram2d"
           }
          ],
          "histogram2dcontour": [
           {
            "colorbar": {
             "outlinewidth": 0,
             "ticks": ""
            },
            "colorscale": [
             [
              0,
              "#0d0887"
             ],
             [
              0.1111111111111111,
              "#46039f"
             ],
             [
              0.2222222222222222,
              "#7201a8"
             ],
             [
              0.3333333333333333,
              "#9c179e"
             ],
             [
              0.4444444444444444,
              "#bd3786"
             ],
             [
              0.5555555555555556,
              "#d8576b"
             ],
             [
              0.6666666666666666,
              "#ed7953"
             ],
             [
              0.7777777777777778,
              "#fb9f3a"
             ],
             [
              0.8888888888888888,
              "#fdca26"
             ],
             [
              1,
              "#f0f921"
             ]
            ],
            "type": "histogram2dcontour"
           }
          ],
          "mesh3d": [
           {
            "colorbar": {
             "outlinewidth": 0,
             "ticks": ""
            },
            "type": "mesh3d"
           }
          ],
          "parcoords": [
           {
            "line": {
             "colorbar": {
              "outlinewidth": 0,
              "ticks": ""
             }
            },
            "type": "parcoords"
           }
          ],
          "pie": [
           {
            "automargin": true,
            "type": "pie"
           }
          ],
          "scatter": [
           {
            "fillpattern": {
             "fillmode": "overlay",
             "size": 10,
             "solidity": 0.2
            },
            "type": "scatter"
           }
          ],
          "scatter3d": [
           {
            "line": {
             "colorbar": {
              "outlinewidth": 0,
              "ticks": ""
             }
            },
            "marker": {
             "colorbar": {
              "outlinewidth": 0,
              "ticks": ""
             }
            },
            "type": "scatter3d"
           }
          ],
          "scattercarpet": [
           {
            "marker": {
             "colorbar": {
              "outlinewidth": 0,
              "ticks": ""
             }
            },
            "type": "scattercarpet"
           }
          ],
          "scattergeo": [
           {
            "marker": {
             "colorbar": {
              "outlinewidth": 0,
              "ticks": ""
             }
            },
            "type": "scattergeo"
           }
          ],
          "scattergl": [
           {
            "marker": {
             "colorbar": {
              "outlinewidth": 0,
              "ticks": ""
             }
            },
            "type": "scattergl"
           }
          ],
          "scattermap": [
           {
            "marker": {
             "colorbar": {
              "outlinewidth": 0,
              "ticks": ""
             }
            },
            "type": "scattermap"
           }
          ],
          "scattermapbox": [
           {
            "marker": {
             "colorbar": {
              "outlinewidth": 0,
              "ticks": ""
             }
            },
            "type": "scattermapbox"
           }
          ],
          "scatterpolar": [
           {
            "marker": {
             "colorbar": {
              "outlinewidth": 0,
              "ticks": ""
             }
            },
            "type": "scatterpolar"
           }
          ],
          "scatterpolargl": [
           {
            "marker": {
             "colorbar": {
              "outlinewidth": 0,
              "ticks": ""
             }
            },
            "type": "scatterpolargl"
           }
          ],
          "scatterternary": [
           {
            "marker": {
             "colorbar": {
              "outlinewidth": 0,
              "ticks": ""
             }
            },
            "type": "scatterternary"
           }
          ],
          "surface": [
           {
            "colorbar": {
             "outlinewidth": 0,
             "ticks": ""
            },
            "colorscale": [
             [
              0,
              "#0d0887"
             ],
             [
              0.1111111111111111,
              "#46039f"
             ],
             [
              0.2222222222222222,
              "#7201a8"
             ],
             [
              0.3333333333333333,
              "#9c179e"
             ],
             [
              0.4444444444444444,
              "#bd3786"
             ],
             [
              0.5555555555555556,
              "#d8576b"
             ],
             [
              0.6666666666666666,
              "#ed7953"
             ],
             [
              0.7777777777777778,
              "#fb9f3a"
             ],
             [
              0.8888888888888888,
              "#fdca26"
             ],
             [
              1,
              "#f0f921"
             ]
            ],
            "type": "surface"
           }
          ],
          "table": [
           {
            "cells": {
             "fill": {
              "color": "#EBF0F8"
             },
             "line": {
              "color": "white"
             }
            },
            "header": {
             "fill": {
              "color": "#C8D4E3"
             },
             "line": {
              "color": "white"
             }
            },
            "type": "table"
           }
          ]
         },
         "layout": {
          "annotationdefaults": {
           "arrowcolor": "#2a3f5f",
           "arrowhead": 0,
           "arrowwidth": 1
          },
          "autotypenumbers": "strict",
          "coloraxis": {
           "colorbar": {
            "outlinewidth": 0,
            "ticks": ""
           }
          },
          "colorscale": {
           "diverging": [
            [
             0,
             "#8e0152"
            ],
            [
             0.1,
             "#c51b7d"
            ],
            [
             0.2,
             "#de77ae"
            ],
            [
             0.3,
             "#f1b6da"
            ],
            [
             0.4,
             "#fde0ef"
            ],
            [
             0.5,
             "#f7f7f7"
            ],
            [
             0.6,
             "#e6f5d0"
            ],
            [
             0.7,
             "#b8e186"
            ],
            [
             0.8,
             "#7fbc41"
            ],
            [
             0.9,
             "#4d9221"
            ],
            [
             1,
             "#276419"
            ]
           ],
           "sequential": [
            [
             0,
             "#0d0887"
            ],
            [
             0.1111111111111111,
             "#46039f"
            ],
            [
             0.2222222222222222,
             "#7201a8"
            ],
            [
             0.3333333333333333,
             "#9c179e"
            ],
            [
             0.4444444444444444,
             "#bd3786"
            ],
            [
             0.5555555555555556,
             "#d8576b"
            ],
            [
             0.6666666666666666,
             "#ed7953"
            ],
            [
             0.7777777777777778,
             "#fb9f3a"
            ],
            [
             0.8888888888888888,
             "#fdca26"
            ],
            [
             1,
             "#f0f921"
            ]
           ],
           "sequentialminus": [
            [
             0,
             "#0d0887"
            ],
            [
             0.1111111111111111,
             "#46039f"
            ],
            [
             0.2222222222222222,
             "#7201a8"
            ],
            [
             0.3333333333333333,
             "#9c179e"
            ],
            [
             0.4444444444444444,
             "#bd3786"
            ],
            [
             0.5555555555555556,
             "#d8576b"
            ],
            [
             0.6666666666666666,
             "#ed7953"
            ],
            [
             0.7777777777777778,
             "#fb9f3a"
            ],
            [
             0.8888888888888888,
             "#fdca26"
            ],
            [
             1,
             "#f0f921"
            ]
           ]
          },
          "colorway": [
           "#636efa",
           "#EF553B",
           "#00cc96",
           "#ab63fa",
           "#FFA15A",
           "#19d3f3",
           "#FF6692",
           "#B6E880",
           "#FF97FF",
           "#FECB52"
          ],
          "font": {
           "color": "#2a3f5f"
          },
          "geo": {
           "bgcolor": "white",
           "lakecolor": "white",
           "landcolor": "#E5ECF6",
           "showlakes": true,
           "showland": true,
           "subunitcolor": "white"
          },
          "hoverlabel": {
           "align": "left"
          },
          "hovermode": "closest",
          "mapbox": {
           "style": "light"
          },
          "paper_bgcolor": "white",
          "plot_bgcolor": "#E5ECF6",
          "polar": {
           "angularaxis": {
            "gridcolor": "white",
            "linecolor": "white",
            "ticks": ""
           },
           "bgcolor": "#E5ECF6",
           "radialaxis": {
            "gridcolor": "white",
            "linecolor": "white",
            "ticks": ""
           }
          },
          "scene": {
           "xaxis": {
            "backgroundcolor": "#E5ECF6",
            "gridcolor": "white",
            "gridwidth": 2,
            "linecolor": "white",
            "showbackground": true,
            "ticks": "",
            "zerolinecolor": "white"
           },
           "yaxis": {
            "backgroundcolor": "#E5ECF6",
            "gridcolor": "white",
            "gridwidth": 2,
            "linecolor": "white",
            "showbackground": true,
            "ticks": "",
            "zerolinecolor": "white"
           },
           "zaxis": {
            "backgroundcolor": "#E5ECF6",
            "gridcolor": "white",
            "gridwidth": 2,
            "linecolor": "white",
            "showbackground": true,
            "ticks": "",
            "zerolinecolor": "white"
           }
          },
          "shapedefaults": {
           "line": {
            "color": "#2a3f5f"
           }
          },
          "ternary": {
           "aaxis": {
            "gridcolor": "white",
            "linecolor": "white",
            "ticks": ""
           },
           "baxis": {
            "gridcolor": "white",
            "linecolor": "white",
            "ticks": ""
           },
           "bgcolor": "#E5ECF6",
           "caxis": {
            "gridcolor": "white",
            "linecolor": "white",
            "ticks": ""
           }
          },
          "title": {
           "x": 0.05
          },
          "xaxis": {
           "automargin": true,
           "gridcolor": "white",
           "linecolor": "white",
           "ticks": "",
           "title": {
            "standoff": 15
           },
           "zerolinecolor": "white",
           "zerolinewidth": 2
          },
          "yaxis": {
           "automargin": true,
           "gridcolor": "white",
           "linecolor": "white",
           "ticks": "",
           "title": {
            "standoff": 15
           },
           "zerolinecolor": "white",
           "zerolinewidth": 2
          }
         }
        },
        "title": {
         "font": {
          "size": 46
         },
         "text": "SuperClass",
         "x": 0.2,
         "xanchor": "right",
         "y": 0.9,
         "yanchor": "top"
        },
        "width": 1400
       }
      },
      "image/png": "[encoded data removed]"
     },
     "metadata": {},
     "output_type": "display_data"
    }
   ],
   "source": [
    "import plotly.express as px\n",
    "import plotly\n",
    "import kaleido\n",
    "import os\n",
    "import pandas as pd\n",
    "\n",
    "# Create folder for images if it doesn't exist\n",
    "if not os.path.exists(\"images\"):\n",
    "    os.mkdir(\"images\")\n",
    "\n",
    "# Read data from Excel\n",
    "dfi = pd.read_excel(\"SuperClass_counts_complete.xlsx\")  # <<< Change file name if needed\n",
    "\n",
    "# ============================\n",
    "# Remove unwanted error labels\n",
    "# ============================\n",
    "exclude_labels = [\"try_again_error\", \"time_error\", \"TimeoutError\", \"OtherError\", \"not_classified\"]\n",
    "dfi = dfi[~dfi[\"SuperClass\"].isin(exclude_labels)]\n",
    "\n",
    "# ============================\n",
    "# Parameter: number of top elements to keep\n",
    "# ============================\n",
    "top_n = 10   # <<< Change this number to keep more/fewer elements\n",
    "\n",
    "# Sort values by counts (descending)\n",
    "dfi_sorted = dfi.sort_values(by=\"counts\", ascending=False).reset_index(drop=True)\n",
    "\n",
    "# Keep top_n and group the rest as \"Others\"\n",
    "top_data = dfi_sorted.iloc[:top_n].copy()\n",
    "others_sum = dfi_sorted.iloc[top_n:][\"counts\"].sum()\n",
    "\n",
    "if others_sum > 0:\n",
    "    top_data = pd.concat([\n",
    "        top_data,\n",
    "        pd.DataFrame({\"SuperClass\": [\"Others\"], \"counts\": [others_sum]})\n",
    "    ])\n",
    "\n",
    "# ============================\n",
    "# Create pie chart\n",
    "# ============================\n",
    "fig = px.pie(\n",
    "    top_data,\n",
    "    names=\"SuperClass\",   # <<< Use \"SuperClass\" column\n",
    "    values=\"counts\",\n",
    "    title=\"SuperClass\"\n",
    ")\n",
    "\n",
    "# --- Percentages inside the chart ---\n",
    "fig.update_traces(\n",
    "    textinfo=\"percent\",\n",
    "    textfont_size=28   # <<< Change percentage font size here\n",
    ")\n",
    "\n",
    "# --- Title, legend, margins ---\n",
    "fig.update_layout(\n",
    "    title=dict(\n",
    "        text=\"SuperClass\",\n",
    "        x=0.2,     # <<< Move title along X-axis (0 = left, 1 = right)\n",
    "        y=0.9,     # <<< Move title along Y-axis (0 = bottom, 1 = top)\n",
    "        xanchor=\"right\",  # Horizontal anchor of the title\n",
    "        yanchor=\"top\",    # Vertical anchor of the title\n",
    "        font=dict(size=46)  # <<< Change title font size here\n",
    "    ),\n",
    "    font_size=20,  # <<< Change default text size (applies to labels, ticks, etc.)\n",
    "    legend_title_text=\"\", \n",
    "    legend=dict(\n",
    "        orientation=\"v\",\n",
    "        yanchor=\"middle\",  \n",
    "        y=0.5,              # <<< Move legend along Y-axis\n",
    "        xanchor=\"left\",     \n",
    "        x=1.1,                # <<< Move legend along X-axis (controls legend box position)\n",
    "        font=dict(size=34)  # <<< Change legend labels font size here\n",
    "    ),\n",
    "    width=1400,\n",
    "    height=800,\n",
    "    margin=dict(t=150, b=100, l=80, r=300)  \n",
    ")\n",
    "\n",
    "# Show interactive chart\n",
    "fig.show()\n",
    "\n",
    "# ============================\n",
    "# Export for publication\n",
    "# ============================\n",
    "fig.write_image(\n",
    "    \"images/2_superclass.png\",   # <<< Output filename\n",
    "    format=\"png\",\n",
    "    width=1250,\n",
    "    height=800,\n",
    "    scale=1   \n",
    ")\n"
   ]
  },
  {
   "cell_type": "code",
   "execution_count": 9,
   "id": "4a1c2309-c76c-4372-a65b-cc63ce21bd60",
   "metadata": {},
   "outputs": [
    {
     "data": {
      "application/vnd.plotly.v1+json": {
       "config": {
        "plotlyServerURL": "https://plot.ly"
       },
       "data": [
        {
         "domain": {
          "x": [
           0,
           1
          ],
          "y": [
           0,
           1
          ]
         },
         "hovertemplate": "Class=%{label}<br>counts=%{value}<extra></extra>",
         "labels": [
          "Sesquiterpenoids",
          "Diterpenoids",
          "Steroids",
          "Ergostane steroids",
          "Germacrane sesquiterpenoids",
          "Triterpenoids",
          "Eudesmane sesquiterpenoids",
          "Flavonoids",
          "Colensane and Clerodane diterpenoids",
          "Labdane diterpenoids",
          "Others"
         ],
         "legendgroup": "",
         "name": "",
         "showlegend": true,
         "textfont": {
          "size": 28
         },
         "textinfo": "percent",
         "type": "pie",
         "values": {
          "_inputArray": {
           "0": 332,
           "1": 190,
           "10": 1340,
           "2": 157,
           "3": 108,
           "4": 104,
           "5": 66,
           "6": 61,
           "7": 55,
           "8": 47,
           "9": 46,
           "bdata": "TAG+AJ0AbABoAEIAPQA3AC8ALgA8BQ==",
           "dtype": "i2",
           "shape": "11"
          },
          "bdata": "TAG+AJ0AbABoAEIAPQA3AC8ALgA8BQ==",
          "dtype": "i2"
         }
        }
       ],
       "layout": {
        "font": {
         "size": 20
        },
        "height": 800,
        "legend": {
         "font": {
          "size": 34
         },
         "orientation": "v",
         "title": {
          "text": ""
         },
         "tracegroupgap": 0,
         "x": 1,
         "xanchor": "left",
         "y": 0.5,
         "yanchor": "middle"
        },
        "margin": {
         "b": 100,
         "l": 80,
         "r": 300,
         "t": 150
        },
        "template": {
         "data": {
          "bar": [
           {
            "error_x": {
             "color": "#2a3f5f"
            },
            "error_y": {
             "color": "#2a3f5f"
            },
            "marker": {
             "line": {
              "color": "#E5ECF6",
              "width": 0.5
             },
             "pattern": {
              "fillmode": "overlay",
              "size": 10,
              "solidity": 0.2
             }
            },
            "type": "bar"
           }
          ],
          "barpolar": [
           {
            "marker": {
             "line": {
              "color": "#E5ECF6",
              "width": 0.5
             },
             "pattern": {
              "fillmode": "overlay",
              "size": 10,
              "solidity": 0.2
             }
            },
            "type": "barpolar"
           }
          ],
          "carpet": [
           {
            "aaxis": {
             "endlinecolor": "#2a3f5f",
             "gridcolor": "white",
             "linecolor": "white",
             "minorgridcolor": "white",
             "startlinecolor": "#2a3f5f"
            },
            "baxis": {
             "endlinecolor": "#2a3f5f",
             "gridcolor": "white",
             "linecolor": "white",
             "minorgridcolor": "white",
             "startlinecolor": "#2a3f5f"
            },
            "type": "carpet"
           }
          ],
          "choropleth": [
           {
            "colorbar": {
             "outlinewidth": 0,
             "ticks": ""
            },
            "type": "choropleth"
           }
          ],
          "contour": [
           {
            "colorbar": {
             "outlinewidth": 0,
             "ticks": ""
            },
            "colorscale": [
             [
              0,
              "#0d0887"
             ],
             [
              0.1111111111111111,
              "#46039f"
             ],
             [
              0.2222222222222222,
              "#7201a8"
             ],
             [
              0.3333333333333333,
              "#9c179e"
             ],
             [
              0.4444444444444444,
              "#bd3786"
             ],
             [
              0.5555555555555556,
              "#d8576b"
             ],
             [
              0.6666666666666666,
              "#ed7953"
             ],
             [
              0.7777777777777778,
              "#fb9f3a"
             ],
             [
              0.8888888888888888,
              "#fdca26"
             ],
             [
              1,
              "#f0f921"
             ]
            ],
            "type": "contour"
           }
          ],
          "contourcarpet": [
           {
            "colorbar": {
             "outlinewidth": 0,
             "ticks": ""
            },
            "type": "contourcarpet"
           }
          ],
          "heatmap": [
           {
            "colorbar": {
             "outlinewidth": 0,
             "ticks": ""
            },
            "colorscale": [
             [
              0,
              "#0d0887"
             ],
             [
              0.1111111111111111,
              "#46039f"
             ],
             [
              0.2222222222222222,
              "#7201a8"
             ],
             [
              0.3333333333333333,
              "#9c179e"
             ],
             [
              0.4444444444444444,
              "#bd3786"
             ],
             [
              0.5555555555555556,
              "#d8576b"
             ],
             [
              0.6666666666666666,
              "#ed7953"
             ],
             [
              0.7777777777777778,
              "#fb9f3a"
             ],
             [
              0.8888888888888888,
              "#fdca26"
             ],
             [
              1,
              "#f0f921"
             ]
            ],
            "type": "heatmap"
           }
          ],
          "histogram": [
           {
            "marker": {
             "pattern": {
              "fillmode": "overlay",
              "size": 10,
              "solidity": 0.2
             }
            },
            "type": "histogram"
           }
          ],
          "histogram2d": [
           {
            "colorbar": {
             "outlinewidth": 0,
             "ticks": ""
            },
            "colorscale": [
             [
              0,
              "#0d0887"
             ],
             [
              0.1111111111111111,
              "#46039f"
             ],
             [
              0.2222222222222222,
              "#7201a8"
             ],
             [
              0.3333333333333333,
              "#9c179e"
             ],
             [
              0.4444444444444444,
              "#bd3786"
             ],
             [
              0.5555555555555556,
              "#d8576b"
             ],
             [
              0.6666666666666666,
              "#ed7953"
             ],
             [
              0.7777777777777778,
              "#fb9f3a"
             ],
             [
              0.8888888888888888,
              "#fdca26"
             ],
             [
              1,
              "#f0f921"
             ]
            ],
            "type": "histogram2d"
           }
          ],
          "histogram2dcontour": [
           {
            "colorbar": {
             "outlinewidth": 0,
             "ticks": ""
            },
            "colorscale": [
             [
              0,
              "#0d0887"
             ],
             [
              0.1111111111111111,
              "#46039f"
             ],
             [
              0.2222222222222222,
              "#7201a8"
             ],
             [
              0.3333333333333333,
              "#9c179e"
             ],
             [
              0.4444444444444444,
              "#bd3786"
             ],
             [
              0.5555555555555556,
              "#d8576b"
             ],
             [
              0.6666666666666666,
              "#ed7953"
             ],
             [
              0.7777777777777778,
              "#fb9f3a"
             ],
             [
              0.8888888888888888,
              "#fdca26"
             ],
             [
              1,
              "#f0f921"
             ]
            ],
            "type": "histogram2dcontour"
           }
          ],
          "mesh3d": [
           {
            "colorbar": {
             "outlinewidth": 0,
             "ticks": ""
            },
            "type": "mesh3d"
           }
          ],
          "parcoords": [
           {
            "line": {
             "colorbar": {
              "outlinewidth": 0,
              "ticks": ""
             }
            },
            "type": "parcoords"
           }
          ],
          "pie": [
           {
            "automargin": true,
            "type": "pie"
           }
          ],
          "scatter": [
           {
            "fillpattern": {
             "fillmode": "overlay",
             "size": 10,
             "solidity": 0.2
            },
            "type": "scatter"
           }
          ],
          "scatter3d": [
           {
            "line": {
             "colorbar": {
              "outlinewidth": 0,
              "ticks": ""
             }
            },
            "marker": {
             "colorbar": {
              "outlinewidth": 0,
              "ticks": ""
             }
            },
            "type": "scatter3d"
           }
          ],
          "scattercarpet": [
           {
            "marker": {
             "colorbar": {
              "outlinewidth": 0,
              "ticks": ""
             }
            },
            "type": "scattercarpet"
           }
          ],
          "scattergeo": [
           {
            "marker": {
             "colorbar": {
              "outlinewidth": 0,
              "ticks": ""
             }
            },
            "type": "scattergeo"
           }
          ],
          "scattergl": [
           {
            "marker": {
             "colorbar": {
              "outlinewidth": 0,
              "ticks": ""
             }
            },
            "type": "scattergl"
           }
          ],
          "scattermap": [
           {
            "marker": {
             "colorbar": {
              "outlinewidth": 0,
              "ticks": ""
             }
            },
            "type": "scattermap"
           }
          ],
          "scattermapbox": [
           {
            "marker": {
             "colorbar": {
              "outlinewidth": 0,
              "ticks": ""
             }
            },
            "type": "scattermapbox"
           }
          ],
          "scatterpolar": [
           {
            "marker": {
             "colorbar": {
              "outlinewidth": 0,
              "ticks": ""
             }
            },
            "type": "scatterpolar"
           }
          ],
          "scatterpolargl": [
           {
            "marker": {
             "colorbar": {
              "outlinewidth": 0,
              "ticks": ""
             }
            },
            "type": "scatterpolargl"
           }
          ],
          "scatterternary": [
           {
            "marker": {
             "colorbar": {
              "outlinewidth": 0,
              "ticks": ""
             }
            },
            "type": "scatterternary"
           }
          ],
          "surface": [
           {
            "colorbar": {
             "outlinewidth": 0,
             "ticks": ""
            },
            "colorscale": [
             [
              0,
              "#0d0887"
             ],
             [
              0.1111111111111111,
              "#46039f"
             ],
             [
              0.2222222222222222,
              "#7201a8"
             ],
             [
              0.3333333333333333,
              "#9c179e"
             ],
             [
              0.4444444444444444,
              "#bd3786"
             ],
             [
              0.5555555555555556,
              "#d8576b"
             ],
             [
              0.6666666666666666,
              "#ed7953"
             ],
             [
              0.7777777777777778,
              "#fb9f3a"
             ],
             [
              0.8888888888888888,
              "#fdca26"
             ],
             [
              1,
              "#f0f921"
             ]
            ],
            "type": "surface"
           }
          ],
          "table": [
           {
            "cells": {
             "fill": {
              "color": "#EBF0F8"
             },
             "line": {
              "color": "white"
             }
            },
            "header": {
             "fill": {
              "color": "#C8D4E3"
             },
             "line": {
              "color": "white"
             }
            },
            "type": "table"
           }
          ]
         },
         "layout": {
          "annotationdefaults": {
           "arrowcolor": "#2a3f5f",
           "arrowhead": 0,
           "arrowwidth": 1
          },
          "autotypenumbers": "strict",
          "coloraxis": {
           "colorbar": {
            "outlinewidth": 0,
            "ticks": ""
           }
          },
          "colorscale": {
           "diverging": [
            [
             0,
             "#8e0152"
            ],
            [
             0.1,
             "#c51b7d"
            ],
            [
             0.2,
             "#de77ae"
            ],
            [
             0.3,
             "#f1b6da"
            ],
            [
             0.4,
             "#fde0ef"
            ],
            [
             0.5,
             "#f7f7f7"
            ],
            [
             0.6,
             "#e6f5d0"
            ],
            [
             0.7,
             "#b8e186"
            ],
            [
             0.8,
             "#7fbc41"
            ],
            [
             0.9,
             "#4d9221"
            ],
            [
             1,
             "#276419"
            ]
           ],
           "sequential": [
            [
             0,
             "#0d0887"
            ],
            [
             0.1111111111111111,
             "#46039f"
            ],
            [
             0.2222222222222222,
             "#7201a8"
            ],
            [
             0.3333333333333333,
             "#9c179e"
            ],
            [
             0.4444444444444444,
             "#bd3786"
            ],
            [
             0.5555555555555556,
             "#d8576b"
            ],
            [
             0.6666666666666666,
             "#ed7953"
            ],
            [
             0.7777777777777778,
             "#fb9f3a"
            ],
            [
             0.8888888888888888,
             "#fdca26"
            ],
            [
             1,
             "#f0f921"
            ]
           ],
           "sequentialminus": [
            [
             0,
             "#0d0887"
            ],
            [
             0.1111111111111111,
             "#46039f"
            ],
            [
             0.2222222222222222,
             "#7201a8"
            ],
            [
             0.3333333333333333,
             "#9c179e"
            ],
            [
             0.4444444444444444,
             "#bd3786"
            ],
            [
             0.5555555555555556,
             "#d8576b"
            ],
            [
             0.6666666666666666,
             "#ed7953"
            ],
            [
             0.7777777777777778,
             "#fb9f3a"
            ],
            [
             0.8888888888888888,
             "#fdca26"
            ],
            [
             1,
             "#f0f921"
            ]
           ]
          },
          "colorway": [
           "#636efa",
           "#EF553B",
           "#00cc96",
           "#ab63fa",
           "#FFA15A",
           "#19d3f3",
           "#FF6692",
           "#B6E880",
           "#FF97FF",
           "#FECB52"
          ],
          "font": {
           "color": "#2a3f5f"
          },
          "geo": {
           "bgcolor": "white",
           "lakecolor": "white",
           "landcolor": "#E5ECF6",
           "showlakes": true,
           "showland": true,
           "subunitcolor": "white"
          },
          "hoverlabel": {
           "align": "left"
          },
          "hovermode": "closest",
          "mapbox": {
           "style": "light"
          },
          "paper_bgcolor": "white",
          "plot_bgcolor": "#E5ECF6",
          "polar": {
           "angularaxis": {
            "gridcolor": "white",
            "linecolor": "white",
            "ticks": ""
           },
           "bgcolor": "#E5ECF6",
           "radialaxis": {
            "gridcolor": "white",
            "linecolor": "white",
            "ticks": ""
           }
          },
          "scene": {
           "xaxis": {
            "backgroundcolor": "#E5ECF6",
            "gridcolor": "white",
            "gridwidth": 2,
            "linecolor": "white",
            "showbackground": true,
            "ticks": "",
            "zerolinecolor": "white"
           },
           "yaxis": {
            "backgroundcolor": "#E5ECF6",
            "gridcolor": "white",
            "gridwidth": 2,
            "linecolor": "white",
            "showbackground": true,
            "ticks": "",
            "zerolinecolor": "white"
           },
           "zaxis": {
            "backgroundcolor": "#E5ECF6",
            "gridcolor": "white",
            "gridwidth": 2,
            "linecolor": "white",
            "showbackground": true,
            "ticks": "",
            "zerolinecolor": "white"
           }
          },
          "shapedefaults": {
           "line": {
            "color": "#2a3f5f"
           }
          },
          "ternary": {
           "aaxis": {
            "gridcolor": "white",
            "linecolor": "white",
            "ticks": ""
           },
           "baxis": {
            "gridcolor": "white",
            "linecolor": "white",
            "ticks": ""
           },
           "bgcolor": "#E5ECF6",
           "caxis": {
            "gridcolor": "white",
            "linecolor": "white",
            "ticks": ""
           }
          },
          "title": {
           "x": 0.05
          },
          "xaxis": {
           "automargin": true,
           "gridcolor": "white",
           "linecolor": "white",
           "ticks": "",
           "title": {
            "standoff": 15
           },
           "zerolinecolor": "white",
           "zerolinewidth": 2
          },
          "yaxis": {
           "automargin": true,
           "gridcolor": "white",
           "linecolor": "white",
           "ticks": "",
           "title": {
            "standoff": 15
           },
           "zerolinecolor": "white",
           "zerolinewidth": 2
          }
         }
        },
        "title": {
         "font": {
          "size": 46
         },
         "text": "Class",
         "x": 0.2,
         "xanchor": "right",
         "y": 0.9,
         "yanchor": "top"
        },
        "width": 1400
       }
      },
      "image/png": "[encoded data removed]"
     },
     "metadata": {},
     "output_type": "display_data"
    },
    {
     "name": "stderr",
     "output_type": "stream",
     "text": [
      "C:\\Users\\alexg\\AppData\\Local\\Programs\\Python\\Python312\\Lib\\site-packages\\plotly\\io\\_kaleido.py:510: DeprecationWarning:\n",
      "\n",
      "\n",
      "Support for the 'engine' argument is deprecated and will be removed after September 2025.\n",
      "Kaleido will be the only supported engine at that time.\n",
      "\n",
      "\n"
     ]
    }
   ],
   "source": [
    "import plotly.express as px\n",
    "import plotly\n",
    "import kaleido\n",
    "import os\n",
    "import pandas as pd\n",
    "\n",
    "# Create folder for images if it doesn't exist\n",
    "if not os.path.exists(\"images\"):\n",
    "    os.mkdir(\"images\")\n",
    "\n",
    "# Read data from Excel\n",
    "dfi = pd.read_excel(\"Class_counts_complete.xlsx\")  # <<< Change file name if needed\n",
    "\n",
    "# ============================\n",
    "# Remove unwanted error labels\n",
    "# ============================\n",
    "exclude_labels = [\"try_again_error\", \"time_error\", \"TimeoutError\", \"OtherError\", \"not_classified\"]\n",
    "dfi = dfi[~dfi[\"Class\"].isin(exclude_labels)]\n",
    "\n",
    "# ============================\n",
    "# Parameter: number of top elements to keep\n",
    "# ============================\n",
    "top_n = 10   # <<< Change this number to keep more/fewer elements before grouping the rest as \"Others\"\n",
    "\n",
    "# Sort values by counts (descending)\n",
    "dfi_sorted = dfi.sort_values(by=\"counts\", ascending=False).reset_index(drop=True)\n",
    "\n",
    "# Keep top_n and group the rest as \"Others\"\n",
    "top_data = dfi_sorted.iloc[:top_n].copy()\n",
    "others_sum = dfi_sorted.iloc[top_n:][\"counts\"].sum()\n",
    "\n",
    "if others_sum > 0:\n",
    "    top_data = pd.concat([\n",
    "        top_data,\n",
    "        pd.DataFrame({\"Class\": [\"Others\"], \"counts\": [others_sum]})\n",
    "    ])\n",
    "\n",
    "# ============================\n",
    "# Create pie chart\n",
    "# ============================\n",
    "fig = px.pie(\n",
    "    top_data,\n",
    "    names=\"Class\",    # <<< Use \"Class\" column\n",
    "    values=\"counts\",\n",
    "    title=\"Class\"\n",
    ")\n",
    "\n",
    "# ============================\n",
    "# Percentages inside the chart\n",
    "# ============================\n",
    "fig.update_traces(\n",
    "    textinfo=\"percent\",     # <<< Controls what text appears inside slices (\"percent\", \"label\", \"value\", etc.)\n",
    "    textfont_size=28        # <<< Change percentage font size here\n",
    ")\n",
    "\n",
    "# ============================\n",
    "# Title, labels, legend styling\n",
    "# ============================\n",
    "fig.update_layout(\n",
    "    title=dict(\n",
    "        text=\"Class\",\n",
    "        x=0.2,                # <<< Move title along X-axis (0 = left, 1 = right)\n",
    "        y=0.9,                # <<< Move title along Y-axis (0 = bottom, 1 = top)\n",
    "        xanchor=\"right\",      # <<< Horizontal anchor point for title\n",
    "        yanchor=\"top\",        # <<< Vertical anchor point for title\n",
    "        font=dict(size=46)    # <<< Change title font size here\n",
    "    ),\n",
    "    font_size=20,             # <<< Change default label font size (applies to tick labels, slice labels, etc.)\n",
    "    legend_title_text=\"\", \n",
    "    legend=dict(\n",
    "        orientation=\"v\",\n",
    "        yanchor=\"middle\",     \n",
    "        y=0.5,                # <<< Move legend along Y-axis\n",
    "        xanchor=\"left\",       \n",
    "        x=1,                  # <<< Move legend box along X-axis (controls its horizontal position)\n",
    "        font=dict(size=34)    # <<< Change legend labels font size here\n",
    "    ),\n",
    "    width=1400,\n",
    "    height=800,\n",
    "    margin=dict(t=150, b=100, l=80, r=300)  \n",
    ")\n",
    "\n",
    "# Show interactive chart\n",
    "fig.show()\n",
    "\n",
    "# ============================\n",
    "# Export for publication\n",
    "# ============================\n",
    "fig.write_image(\n",
    "    \"images/3_class.png\",   # <<< Output filename\n",
    "    format=\"png\",\n",
    "    width=1250,\n",
    "    height=800,\n",
    "    scale=1   \n",
    ")\n"
   ]
  }
 ],
 "metadata": {
  "kernelspec": {
   "display_name": "Python 3 (ipykernel)",
   "language": "python",
   "name": "python3"
  },
  "language_info": {
   "codemirror_mode": {
    "name": "ipython",
    "version": 3
   },
   "file_extension": ".py",
   "mimetype": "text/x-python",
   "name": "python",
   "nbconvert_exporter": "python",
   "pygments_lexer": "ipython3",
   "version": "3.12.5"
  }
 },
 "nbformat": 4,
 "nbformat_minor": 5
}
